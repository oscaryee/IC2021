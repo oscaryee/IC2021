{
 "cells": [
  {
   "cell_type": "code",
   "execution_count": 83,
   "metadata": {},
   "outputs": [],
   "source": [
    "import numpy as np"
   ]
  },
  {
   "cell_type": "code",
   "execution_count": 84,
   "metadata": {},
   "outputs": [],
   "source": [
    "r = np.ones((5,1))\n",
    "w = np.zeros(shape=(5,5))\n",
    "w[0][1] = 1\n",
    "w[1][0] = 0.5\n",
    "w[1][4] = 0.5\n",
    "w[2][1] = 0.5\n",
    "w[2][4] = 0.5\n",
    "w[3][1] = 0.5\n",
    "w[3][4] = 0.5\n",
    "w[4][1] = 0.33333\n",
    "w[4][2] = 0.33333\n",
    "w[4][3] = 0.33333"
   ]
  },
  {
   "cell_type": "code",
   "execution_count": 85,
   "metadata": {},
   "outputs": [],
   "source": [
    "w_t = np.transpose(w)"
   ]
  },
  {
   "cell_type": "code",
   "execution_count": 86,
   "metadata": {},
   "outputs": [
    {
     "data": {
      "text/plain": [
       "array([[0.     , 0.5    , 0.     , 0.     , 0.     ],\n",
       "       [1.     , 0.     , 0.5    , 0.5    , 0.33333],\n",
       "       [0.     , 0.     , 0.     , 0.     , 0.33333],\n",
       "       [0.     , 0.     , 0.     , 0.     , 0.33333],\n",
       "       [0.     , 0.5    , 0.5    , 0.5    , 0.     ]])"
      ]
     },
     "execution_count": 86,
     "metadata": {},
     "output_type": "execute_result"
    }
   ],
   "source": [
    "w_t"
   ]
  },
  {
   "cell_type": "code",
   "execution_count": 87,
   "metadata": {},
   "outputs": [
    {
     "data": {
      "text/plain": [
       "array([[1.],\n",
       "       [1.],\n",
       "       [1.],\n",
       "       [1.],\n",
       "       [1.]])"
      ]
     },
     "execution_count": 87,
     "metadata": {},
     "output_type": "execute_result"
    }
   ],
   "source": [
    "r"
   ]
  },
  {
   "cell_type": "code",
   "execution_count": 88,
   "metadata": {},
   "outputs": [
    {
     "data": {
      "text/plain": [
       "array([[0.5    ],\n",
       "       [2.33333],\n",
       "       [0.33333],\n",
       "       [0.33333],\n",
       "       [1.5    ]])"
      ]
     },
     "execution_count": 88,
     "metadata": {},
     "output_type": "execute_result"
    }
   ],
   "source": [
    "r_next = np.matmul (w_t,r)\n",
    "r_next"
   ]
  },
  {
   "cell_type": "code",
   "execution_count": 89,
   "metadata": {},
   "outputs": [
    {
     "data": {
      "text/plain": [
       "array([[0.90919582],\n",
       "       [1.81786397],\n",
       "       [0.4543733 ],\n",
       "       [0.4543733 ],\n",
       "       [1.36388172]])"
      ]
     },
     "execution_count": 89,
     "metadata": {},
     "output_type": "execute_result"
    }
   ],
   "source": [
    "while (np.linalg.norm(r_next-r) > 0.001):\n",
    "    r= np.matmul (w_t,r)\n",
    "    r_next = np.matmul (w_t,r)\n",
    "r"
   ]
  },
  {
   "cell_type": "code",
   "execution_count": null,
   "metadata": {},
   "outputs": [],
   "source": []
  }
 ],
 "metadata": {
  "kernelspec": {
   "display_name": "Python 3",
   "language": "python",
   "name": "python3"
  },
  "language_info": {
   "codemirror_mode": {
    "name": "ipython",
    "version": 3
   },
   "file_extension": ".py",
   "mimetype": "text/x-python",
   "name": "python",
   "nbconvert_exporter": "python",
   "pygments_lexer": "ipython3",
   "version": "3.8.3"
  }
 },
 "nbformat": 4,
 "nbformat_minor": 4
}
